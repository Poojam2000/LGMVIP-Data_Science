{
 "cells": [
  {
   "cell_type": "markdown",
   "id": "a0c0cc78",
   "metadata": {},
   "source": [
    "# Image to Pencil Sketch with Python\n",
    "# LGMVIP - Data Science \n",
    "# Name: Pooja Murkute\n",
    "## Batch - March 2023"
   ]
  },
  {
   "cell_type": "markdown",
   "id": "3f31f21d",
   "metadata": {},
   "source": [
    "## Importing Libraries"
   ]
  },
  {
   "cell_type": "code",
   "execution_count": null,
   "id": "f8a90007",
   "metadata": {},
   "outputs": [],
   "source": [
    "import cv2\n",
    "from PIL import Image\n",
    "from IPython.display import display"
   ]
  },
  {
   "cell_type": "code",
   "execution_count": null,
   "id": "531b6ac2",
   "metadata": {},
   "outputs": [],
   "source": [
    "image = cv2.imread('giantpanda-001.jpeg')\n",
    "image = cv2.cvtColor(image, cv2.COLOR_BGR2RGB)\n",
    "display(Image.fromarray(image))\n",
    "                     "
   ]
  },
  {
   "cell_type": "markdown",
   "id": "4d6468ff",
   "metadata": {},
   "source": [
    "# Convert image to a gray scale image"
   ]
  },
  {
   "cell_type": "code",
   "execution_count": null,
   "id": "b3d313a4",
   "metadata": {},
   "outputs": [],
   "source": [
    "gray_image = cv2.cvtColor(image, cv2.COLOR_BGR2GRAY)\n",
    "display(Image.fromarray(gray_image))"
   ]
  },
  {
   "cell_type": "markdown",
   "id": "831f00c1",
   "metadata": {},
   "source": [
    "# Convert to invert grayscale image"
   ]
  },
  {
   "cell_type": "code",
   "execution_count": null,
   "id": "623d6eda",
   "metadata": {},
   "outputs": [],
   "source": [
    "invert_image = cv2.bitwise_not(gray_image)\n",
    "display(Image.fromarray(invert_image))"
   ]
  },
  {
   "cell_type": "markdown",
   "id": "c2200551",
   "metadata": {},
   "source": [
    "# Now convert Negative image to blurry image"
   ]
  },
  {
   "cell_type": "code",
   "execution_count": null,
   "id": "72cf179c",
   "metadata": {},
   "outputs": [],
   "source": [
    "blurred_image = cv2.GaussianBlur(invert_image, (21,21), 0)\n",
    "display(Image.fromarray(blurred_image))"
   ]
  },
  {
   "cell_type": "markdown",
   "id": "1949e94e",
   "metadata": {},
   "source": [
    "# Create the Pencil Sketch by mixing the gray scale image with the inverted blurry image"
   ]
  },
  {
   "cell_type": "code",
   "execution_count": null,
   "id": "90c57864",
   "metadata": {},
   "outputs": [],
   "source": [
    "inverted_blurred=cv2.bitwise_not(blurred_image)\n",
    "pencil_sketch = cv2.divide(gray_image, invert_image, scale=250.0)\n",
    "display(Image.fromarray(pencil_sketch))"
   ]
  },
  {
   "cell_type": "code",
   "execution_count": null,
   "id": "3e062376",
   "metadata": {},
   "outputs": [],
   "source": []
  }
 ],
 "metadata": {
  "kernelspec": {
   "display_name": "Python 3 (ipykernel)",
   "language": "python",
   "name": "python3"
  },
  "language_info": {
   "codemirror_mode": {
    "name": "ipython",
    "version": 3
   },
   "file_extension": ".py",
   "mimetype": "text/x-python",
   "name": "python",
   "nbconvert_exporter": "python",
   "pygments_lexer": "ipython3",
   "version": "3.11.2"
  }
 },
 "nbformat": 4,
 "nbformat_minor": 5
}
